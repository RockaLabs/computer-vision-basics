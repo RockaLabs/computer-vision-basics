{
 "cells": [
  {
   "cell_type": "code",
   "execution_count": 1,
   "metadata": {},
   "outputs": [],
   "source": [
    "import cv2\n",
    "import sys\n",
    "import numpy as np\n",
    "from utils import load_image, display_image"
   ]
  },
  {
   "cell_type": "code",
   "execution_count": 3,
   "metadata": {},
   "outputs": [],
   "source": [
    "if __name__ == '__main__':\n",
    "\n",
    "    faceCascade = cv2.CascadeClassifier('models/haarcascade_frontalface_default.xml')\n",
    "    faceNeighborsMax = 10\n",
    "    neighborStep = 1\n",
    "\n",
    "    frame = cv2.imread(\"rocka-team.jpg\")\n",
    "    frameGray = cv2.cvtColor(frame, cv2.COLOR_BGR2GRAY)\n",
    "\n",
    "    for neigh in range(1, faceNeighborsMax, neighborStep):\n",
    "        faces = faceCascade.detectMultiScale(frameGray, 1.2, neigh)\n",
    "        frameClone = np.copy(frame)\n",
    "\n",
    "        for (x, y, w, h) in faces:\n",
    "            cv2.rectangle(frameClone, (x, y), (x + w, y + h), (255, 0, 0), 2)\n",
    "\n",
    "            #cv2.putText(frameClone, \"# Neighbors = {}\".format(neigh),\n",
    "            #            (10, 50), cv2.FONT_HERSHEY_SIMPLEX, 1, (0, 0, 255), 4)\n",
    "            cv2.imshow('Face Detection Demo', frameClone)\n",
    "            if cv2.waitKey(500) & 0xFF == 27:\n",
    "                cv2.destroyAllWindows()\n",
    "                sys.exit()\n",
    "            #frameClone = cv2.cvtColor(frameClone, cv2.COLOR_BGR2RGB)\n",
    "            #display_image(frameClone)\n",
    "            "
   ]
  }
 ],
 "metadata": {
  "kernelspec": {
   "display_name": "Python 3",
   "language": "python",
   "name": "python3"
  },
  "language_info": {
   "codemirror_mode": {
    "name": "ipython",
    "version": 3
   },
   "file_extension": ".py",
   "mimetype": "text/x-python",
   "name": "python",
   "nbconvert_exporter": "python",
   "pygments_lexer": "ipython3",
   "version": "3.6.3"
  }
 },
 "nbformat": 4,
 "nbformat_minor": 2
}
